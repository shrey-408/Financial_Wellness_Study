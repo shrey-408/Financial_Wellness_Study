{
 "cells": [
  {
   "cell_type": "markdown",
   "id": "5ce28070",
   "metadata": {},
   "source": [
    "Problem Statement:\n",
    "\n",
    "Financial behavior and wellness vary widely across individuals depending on income, savings, spending, debt, and investment habits. Many people lack awareness of their financial health, which makes it difficult to take corrective action. The challenge is to use personal financial data to predict an individual’s financial wellness category (e.g., good, average, poor) so that actionable recommendations can be made.\n"
   ]
  },
  {
   "cell_type": "markdown",
   "id": "7ec9a6f7",
   "metadata": {},
   "source": [
    "Goal\n",
    "\n",
    "•\tTo build a machine learning model that analyzes user financial data (income, savings, expenses, debt, investment patterns).\n",
    "\n",
    "•\tTo classify individuals into a Financial Wellness Score category.\n",
    "\n",
    "•\tTo provide insights that can help individuals improve their financial health.\n"
   ]
  },
  {
   "cell_type": "code",
   "execution_count": 2,
   "id": "a1f83cb5",
   "metadata": {},
   "outputs": [],
   "source": [
    "import pandas as pd\n",
    "import numpy as np\n",
    "import seaborn as sns\n",
    "import matplotlib.pyplot as plt\n",
    "import plotly.express as px\n",
    "import plotly.graph_objects as go\n",
    "\n",
    "from sklearn.model_selection import train_test_split\n",
    "from sklearn.preprocessing import StandardScaler, OneHotEncoder, LabelEncoder\n",
    "from sklearn.compose import ColumnTransformer\n",
    "from sklearn.pipeline import Pipeline\n",
    "from sklearn.ensemble import RandomForestClassifier\n",
    "from sklearn.linear_model import LogisticRegression, LinearRegression\n",
    "from sklearn.cluster import KMeans\n",
    "from sklearn.metrics import (\n",
    "    accuracy_score,\n",
    "    classification_report,\n",
    "    confusion_matrix,\n",
    "    mean_squared_error,\n",
    "    r2_score,\n",
    ")\n"
   ]
  },
  {
   "cell_type": "code",
   "execution_count": 3,
   "id": "cd24ffc1",
   "metadata": {},
   "outputs": [],
   "source": [
    "# ---- Load Dataset ----\n",
    "file_path = \"Main_Data.xlsx\"   # adjust path if needed\n",
    "data = pd.read_excel(file_path, sheet_name=\"updated_savings_column_4\")"
   ]
  },
  {
   "cell_type": "markdown",
   "id": "7cb4cafb",
   "metadata": {},
   "source": [
    "Insights from Data\n",
    "\n",
    "1.\tIncome vs. Savings: Higher income does not always lead to higher savings—some groups spend disproportionately more.\n",
    "\n",
    "2.\tDebt Impact: Individuals with higher debt-to-income ratios tend to fall in lower financial wellness categories.\n",
    "\n",
    "3.\tInvestment Patterns: Regular investments correlate positively with better financial wellness scores.\n",
    "\n",
    "4.\tSpending Behavior: Overspending on non-essentials reduces financial stability, even in higher income brackets.\n",
    "\n",
    "5.\tCategorical Trends: Younger respondents may show more aggressive spending, while older groups prioritize savings.\n"
   ]
  },
  {
   "cell_type": "code",
   "execution_count": 4,
   "id": "8c7a0f3e",
   "metadata": {},
   "outputs": [],
   "source": [
    "\n",
    "# ---- Clean Columns ----\n",
    "data.columns = data.columns.str.strip()\n"
   ]
  },
  {
   "cell_type": "markdown",
   "id": "0e980619",
   "metadata": {},
   "source": [
    "EDA"
   ]
  },
  {
   "cell_type": "code",
   "execution_count": 5,
   "id": "a17866e8",
   "metadata": {},
   "outputs": [
    {
     "name": "stdout",
     "output_type": "stream",
     "text": [
      "\n",
      "--- Info ---\n",
      "<class 'pandas.core.frame.DataFrame'>\n",
      "RangeIndex: 185 entries, 0 to 184\n",
      "Data columns (total 13 columns):\n",
      " #   Column                    Non-Null Count  Dtype  \n",
      "---  ------                    --------------  -----  \n",
      " 0   Age                       185 non-null    int64  \n",
      " 1   Income                    185 non-null    int64  \n",
      " 2   Monthly Spend             185 non-null    int64  \n",
      " 3   Savings %                 185 non-null    float64\n",
      " 4   Emergency Fund            185 non-null    int64  \n",
      " 5   Has Debt                  185 non-null    int64  \n",
      " 6   Invests                   185 non-null    int64  \n",
      " 7   Income Type               185 non-null    object \n",
      " 8   Total Loan (Estimated)    185 non-null    int64  \n",
      " 9   Investment Type           185 non-null    object \n",
      " 10  Insurance Coverage        185 non-null    int64  \n",
      " 11  Budgeting Habit           185 non-null    object \n",
      " 12  Estimated Monthly Income  185 non-null    int64  \n",
      "dtypes: float64(1), int64(9), object(3)\n",
      "memory usage: 18.9+ KB\n",
      "None\n"
     ]
    }
   ],
   "source": [
    "\n",
    "print(\"\\n--- Info ---\")\n",
    "print(data.info())"
   ]
  },
  {
   "cell_type": "code",
   "execution_count": 6,
   "id": "d26a9cf3",
   "metadata": {},
   "outputs": [
    {
     "name": "stdout",
     "output_type": "stream",
     "text": [
      "\n",
      "--- Describe ---\n",
      "               Age        Income  Monthly Spend   Savings %  Emergency Fund  \\\n",
      "count   185.000000  1.850000e+02   1.850000e+02  185.000000      185.000000   \n",
      "unique         NaN           NaN            NaN         NaN             NaN   \n",
      "top            NaN           NaN            NaN         NaN             NaN   \n",
      "freq           NaN           NaN            NaN         NaN             NaN   \n",
      "mean     33.967568  8.227027e+05   6.898378e+04   16.554054    43356.756757   \n",
      "std      13.240625  2.809596e+05   1.569891e+05   13.052353    57101.095229   \n",
      "min      17.000000  6.000000e+05   1.000000e+04    0.000000    10000.000000   \n",
      "25%      22.000000  6.000000e+05   2.850000e+04    5.000000    15000.000000   \n",
      "50%      31.000000  7.000000e+05   4.150000e+04   17.500000    25000.000000   \n",
      "75%      45.000000  9.000000e+05   5.600000e+04   20.000000    50000.000000   \n",
      "max      63.000000  1.500000e+06   1.500000e+06   50.000000   700000.000000   \n",
      "\n",
      "          Has Debt     Invests Income Type  Total Loan (Estimated)  \\\n",
      "count   185.000000  185.000000         185            1.850000e+02   \n",
      "unique         NaN         NaN           2                     NaN   \n",
      "top            NaN         NaN      Fixed                      NaN   \n",
      "freq           NaN         NaN         108                     NaN   \n",
      "mean      0.443243    0.810811         NaN            5.980054e+05   \n",
      "std       0.498116    0.392722         NaN            3.778516e+05   \n",
      "min       0.000000    0.000000         NaN            1.000000e+05   \n",
      "25%       0.000000    1.000000         NaN            3.000000e+05   \n",
      "50%       0.000000    1.000000         NaN            5.300000e+05   \n",
      "75%       1.000000    1.000000         NaN            8.000000e+05   \n",
      "max       1.000000    1.000000         NaN            2.300000e+06   \n",
      "\n",
      "       Investment Type  Insurance Coverage Budgeting Habit  \\\n",
      "count              185        1.850000e+02             185   \n",
      "unique              23                 NaN               3   \n",
      "top              None                  NaN             No    \n",
      "freq                35                 NaN              68   \n",
      "mean               NaN        2.236216e+06             NaN   \n",
      "std                NaN        4.218095e+06             NaN   \n",
      "min                NaN        1.000000e+05             NaN   \n",
      "25%                NaN        1.000000e+05             NaN   \n",
      "50%                NaN        3.000000e+05             NaN   \n",
      "75%                NaN        1.400000e+06             NaN   \n",
      "max                NaN        1.900000e+07             NaN   \n",
      "\n",
      "        Estimated Monthly Income  \n",
      "count                 185.000000  \n",
      "unique                       NaN  \n",
      "top                          NaN  \n",
      "freq                         NaN  \n",
      "mean               156378.378378  \n",
      "std                237008.914636  \n",
      "min                 30000.000000  \n",
      "25%                 30000.000000  \n",
      "50%                 50000.000000  \n",
      "75%                100000.000000  \n",
      "max                700000.000000  \n"
     ]
    }
   ],
   "source": [
    "print(\"\\n--- Describe ---\")\n",
    "print(data.describe(include='all'))"
   ]
  },
  {
   "cell_type": "code",
   "execution_count": 7,
   "id": "235911c4",
   "metadata": {},
   "outputs": [
    {
     "name": "stdout",
     "output_type": "stream",
     "text": [
      "\n",
      "--- GroupBy: Average Monthly Spend by Income ---\n",
      "Income\n",
      "600000      26385.714286\n",
      "700000      42489.361702\n",
      "900000      95071.428571\n",
      "1100000    281250.000000\n",
      "1200000     70952.380952\n",
      "1500000    242733.333333\n",
      "Name: Monthly Spend, dtype: float64\n"
     ]
    }
   ],
   "source": [
    "# GroupBy Average Monthly Spend by Income group\n",
    "grouped_income = data.groupby(\"Income\")[\"Monthly Spend\"].mean()\n",
    "print(\"\\n--- GroupBy: Average Monthly Spend by Income ---\")\n",
    "print(grouped_income)\n"
   ]
  },
  {
   "cell_type": "markdown",
   "id": "5e9608e4",
   "metadata": {},
   "source": [
    "Visualizations"
   ]
  },
  {
   "cell_type": "code",
   "execution_count": 8,
   "id": "6846c427",
   "metadata": {},
   "outputs": [
    {
     "data": {
      "image/png": "[encoded data removed]",
      "text/plain": [
       "<Figure size 600x600 with 1 Axes>"
      ]
     },
     "metadata": {},
     "output_type": "display_data"
    }
   ],
   "source": [
    "# 1. Macro Chart (Pie of Income distribution)\n",
    "plt.figure(figsize=(6,6))\n",
    "data[\"Income\"].value_counts().plot.pie(autopct='%1.1f%%')\n",
    "plt.title(\"Income Group Distribution (Macro View)\")\n",
    "plt.ylabel(\"\")\n",
    "plt.show()"
   ]
  },
  {
   "cell_type": "code",
   "execution_count": 9,
   "id": "a31eb8f9",
   "metadata": {},
   "outputs": [
    {
     "data": {
      "application/vnd.plotly.v1+json": {
       "config": {
        "plotlyServerURL": "https://plot.ly"
       },
       "data": [
        {
         "name": "Income Loan",
         "orientation": "v",
         "type": "waterfall",
         "x": [
          600000,
          700000,
          900000,
          1100000,
          1200000,
          1500000
         ],
         "y": [
          40234000,
          30763000,
          16064000,
          2970000,
          11140000,
          9460000
         ]
        }
       ],
       "layout": {
        "template": {
         "data": {
          "bar": [
           {
            "error_x": {
             "color": "#2a3f5f"
            },
            "error_y": {
             "color": "#2a3f5f"
            },
            "marker": {
             "line": {
              "color": "#E5ECF6",
              "width": 0.5
             },
             "pattern": {
              "fillmode": "overlay",
              "size": 10,
              "solidity": 0.2
             }
            },
            "type": "bar"
           }
          ],
          "barpolar": [
           {
            "marker": {
             "line": {
              "color": "#E5ECF6",
              "width": 0.5
             },
             "pattern": {
              "fillmode": "overlay",
              "size": 10,
              "solidity": 0.2
             }
            },
            "type": "barpolar"
           }
          ],
          "carpet": [
           {
            "aaxis": {
             "endlinecolor": "#2a3f5f",
             "gridcolor": "white",
             "linecolor": "white",
             "minorgridcolor": "white",
             "startlinecolor": "#2a3f5f"
            },
            "baxis": {
             "endlinecolor": "#2a3f5f",
             "gridcolor": "white",
             "linecolor": "white",
             "minorgridcolor": "white",
             "startlinecolor": "#2a3f5f"
            },
            "type": "carpet"
           }
          ],
          "choropleth": [
           {
            "colorbar": {
             "outlinewidth": 0,
             "ticks": ""
            },
            "type": "choropleth"
           }
          ],
          "contour": [
           {
            "colorbar": {
             "outlinewidth": 0,
             "ticks": ""
            },
            "colorscale": [
             [
              0,
              "#0d0887"
             ],
             [
              0.1111111111111111,
              "#46039f"
             ],
             [
              0.2222222222222222,
              "#7201a8"
             ],
             [
              0.3333333333333333,
              "#9c179e"
             ],
             [
              0.4444444444444444,
              "#bd3786"
             ],
             [
              0.5555555555555556,
              "#d8576b"
             ],
             [
              0.6666666666666666,
              "#ed7953"
             ],
             [
              0.7777777777777778,
              "#fb9f3a"
             ],
             [
              0.8888888888888888,
              "#fdca26"
             ],
             [
              1,
              "#f0f921"
             ]
            ],
            "type": "contour"
           }
          ],
          "contourcarpet": [
           {
            "colorbar": {
             "outlinewidth": 0,
             "ticks": ""
            },
            "type": "contourcarpet"
           }
          ],
          "heatmap": [
           {
            "colorbar": {
             "outlinewidth": 0,
             "ticks": ""
            },
            "colorscale": [
             [
              0,
              "#0d0887"
             ],
             [
              0.1111111111111111,
              "#46039f"
             ],
             [
              0.2222222222222222,
              "#7201a8"
             ],
             [
              0.3333333333333333,
              "#9c179e"
             ],
             [
              0.4444444444444444,
              "#bd3786"
             ],
             [
              0.5555555555555556,
              "#d8576b"
             ],
             [
              0.6666666666666666,
              "#ed7953"
             ],
             [
              0.7777777777777778,
              "#fb9f3a"
             ],
             [
              0.8888888888888888,
              "#fdca26"
             ],
             [
              1,
              "#f0f921"
             ]
            ],
            "type": "heatmap"
           }
          ],
          "heatmapgl": [
           {
            "colorbar": {
             "outlinewidth": 0,
             "ticks": ""
            },
            "colorscale": [
             [
              0,
              "#0d0887"
             ],
             [
              0.1111111111111111,
              "#46039f"
             ],
             [
              0.2222222222222222,
              "#7201a8"
             ],
             [
              0.3333333333333333,
              "#9c179e"
             ],
             [
              0.4444444444444444,
              "#bd3786"
             ],
             [
              0.5555555555555556,
              "#d8576b"
             ],
             [
              0.6666666666666666,
              "#ed7953"
             ],
             [
              0.7777777777777778,
              "#fb9f3a"
             ],
             [
              0.8888888888888888,
              "#fdca26"
             ],
             [
              1,
              "#f0f921"
             ]
            ],
            "type": "heatmapgl"
           }
          ],
          "histogram": [
           {
            "marker": {
             "pattern": {
              "fillmode": "overlay",
              "size": 10,
              "solidity": 0.2
             }
            },
            "type": "histogram"
           }
          ],
          "histogram2d": [
           {
            "colorbar": {
             "outlinewidth": 0,
             "ticks": ""
            },
            "colorscale": [
             [
              0,
              "#0d0887"
             ],
             [
              0.1111111111111111,
              "#46039f"
             ],
             [
              0.2222222222222222,
              "#7201a8"
             ],
             [
              0.3333333333333333,
              "#9c179e"
             ],
             [
              0.4444444444444444,
              "#bd3786"
             ],
             [
              0.5555555555555556,
              "#d8576b"
             ],
             [
              0.6666666666666666,
              "#ed7953"
             ],
             [
              0.7777777777777778,
              "#fb9f3a"
             ],
             [
              0.8888888888888888,
              "#fdca26"
             ],
             [
              1,
              "#f0f921"
             ]
            ],
            "type": "histogram2d"
           }
          ],
          "histogram2dcontour": [
           {
            "colorbar": {
             "outlinewidth": 0,
             "ticks": ""
            },
            "colorscale": [
             [
              0,
              "#0d0887"
             ],
             [
              0.1111111111111111,
              "#46039f"
             ],
             [
              0.2222222222222222,
              "#7201a8"
             ],
             [
              0.3333333333333333,
              "#9c179e"
             ],
             [
              0.4444444444444444,
              "#bd3786"
             ],
             [
              0.5555555555555556,
              "#d8576b"
             ],
             [
              0.6666666666666666,
              "#ed7953"
             ],
             [
              0.7777777777777778,
              "#fb9f3a"
             ],
             [
              0.8888888888888888,
              "#fdca26"
             ],
             [
              1,
              "#f0f921"
             ]
            ],
            "type": "histogram2dcontour"
           }
          ],
          "mesh3d": [
           {
            "colorbar": {
             "outlinewidth": 0,
             "ticks": ""
            },
            "type": "mesh3d"
           }
          ],
          "parcoords": [
           {
            "line": {
             "colorbar": {
              "outlinewidth": 0,
              "ticks": ""
             }
            },
            "type": "parcoords"
           }
          ],
          "pie": [
           {
            "automargin": true,
            "type": "pie"
           }
          ],
          "scatter": [
           {
            "fillpattern": {
             "fillmode": "overlay",
             "size": 10,
             "solidity": 0.2
            },
            "type": "scatter"
           }
          ],
          "scatter3d": [
           {
            "line": {
             "colorbar": {
              "outlinewidth": 0,
              "ticks": ""
             }
            },
            "marker": {
             "colorbar": {
              "outlinewidth": 0,
              "ticks": ""
             }
            },
            "type": "scatter3d"
           }
          ],
          "scattercarpet": [
           {
            "marker": {
             "colorbar": {
              "outlinewidth": 0,
              "ticks": ""
             }
            },
            "type": "scattercarpet"
           }
          ],
          "scattergeo": [
           {
            "marker": {
             "colorbar": {
              "outlinewidth": 0,
              "ticks": ""
             }
            },
            "type": "scattergeo"
           }
          ],
          "scattergl": [
           {
            "marker": {
             "colorbar": {
              "outlinewidth": 0,
              "ticks": ""
             }
            },
            "type": "scattergl"
           }
          ],
          "scattermapbox": [
           {
            "marker": {
             "colorbar": {
              "outlinewidth": 0,
              "ticks": ""
             }
            },
            "type": "scattermapbox"
           }
          ],
          "scatterpolar": [
           {
            "marker": {
             "colorbar": {
              "outlinewidth": 0,
              "ticks": ""
             }
            },
            "type": "scatterpolar"
           }
          ],
          "scatterpolargl": [
           {
            "marker": {
             "colorbar": {
              "outlinewidth": 0,
              "ticks": ""
             }
            },
            "type": "scatterpolargl"
           }
          ],
          "scatterternary": [
           {
            "marker": {
             "colorbar": {
              "outlinewidth": 0,
              "ticks": ""
             }
            },
            "type": "scatterternary"
           }
          ],
          "surface": [
           {
            "colorbar": {
             "outlinewidth": 0,
             "ticks": ""
            },
            "colorscale": [
             [
              0,
              "#0d0887"
             ],
             [
              0.1111111111111111,
              "#46039f"
             ],
             [
              0.2222222222222222,
              "#7201a8"
             ],
             [
              0.3333333333333333,
              "#9c179e"
             ],
             [
              0.4444444444444444,
              "#bd3786"
             ],
             [
              0.5555555555555556,
              "#d8576b"
             ],
             [
              0.6666666666666666,
              "#ed7953"
             ],
             [
              0.7777777777777778,
              "#fb9f3a"
             ],
             [
              0.8888888888888888,
              "#fdca26"
             ],
             [
              1,
              "#f0f921"
             ]
            ],
            "type": "surface"
           }
          ],
          "table": [
           {
            "cells": {
             "fill": {
              "color": "#EBF0F8"
             },
             "line": {
              "color": "white"
             }
            },
            "header": {
             "fill": {
              "color": "#C8D4E3"
             },
             "line": {
              "color": "white"
             }
            },
            "type": "table"
           }
          ]
         },
         "layout": {
          "annotationdefaults": {
           "arrowcolor": "#2a3f5f",
           "arrowhead": 0,
           "arrowwidth": 1
          },
          "autotypenumbers": "strict",
          "coloraxis": {
           "colorbar": {
            "outlinewidth": 0,
            "ticks": ""
           }
          },
          "colorscale": {
           "diverging": [
            [
             0,
             "#8e0152"
            ],
            [
             0.1,
             "#c51b7d"
            ],
            [
             0.2,
             "#de77ae"
            ],
            [
             0.3,
             "#f1b6da"
            ],
            [
             0.4,
             "#fde0ef"
            ],
            [
             0.5,
             "#f7f7f7"
            ],
            [
             0.6,
             "#e6f5d0"
            ],
            [
             0.7,
             "#b8e186"
            ],
            [
             0.8,
             "#7fbc41"
            ],
            [
             0.9,
             "#4d9221"
            ],
            [
             1,
             "#276419"
            ]
           ],
           "sequential": [
            [
             0,
             "#0d0887"
            ],
            [
             0.1111111111111111,
             "#46039f"
            ],
            [
             0.2222222222222222,
             "#7201a8"
            ],
            [
             0.3333333333333333,
             "#9c179e"
            ],
            [
             0.4444444444444444,
             "#bd3786"
            ],
            [
             0.5555555555555556,
             "#d8576b"
            ],
            [
             0.6666666666666666,
             "#ed7953"
            ],
            [
             0.7777777777777778,
             "#fb9f3a"
            ],
            [
             0.8888888888888888,
             "#fdca26"
            ],
            [
             1,
             "#f0f921"
            ]
           ],
           "sequentialminus": [
            [
             0,
             "#0d0887"
            ],
            [
             0.1111111111111111,
             "#46039f"
            ],
            [
             0.2222222222222222,
             "#7201a8"
            ],
            [
             0.3333333333333333,
             "#9c179e"
            ],
            [
             0.4444444444444444,
             "#bd3786"
            ],
            [
             0.5555555555555556,
             "#d8576b"
            ],
            [
             0.6666666666666666,
             "#ed7953"
            ],
            [
             0.7777777777777778,
             "#fb9f3a"
            ],
            [
             0.8888888888888888,
             "#fdca26"
            ],
            [
             1,
             "#f0f921"
            ]
           ]
          },
          "colorway": [
           "#636efa",
           "#EF553B",
           "#00cc96",
           "#ab63fa",
           "#FFA15A",
           "#19d3f3",
           "#FF6692",
           "#B6E880",
           "#FF97FF",
           "#FECB52"
          ],
          "font": {
           "color": "#2a3f5f"
          },
          "geo": {
           "bgcolor": "white",
           "lakecolor": "white",
           "landcolor": "#E5ECF6",
           "showlakes": true,
           "showland": true,
           "subunitcolor": "white"
          },
          "hoverlabel": {
           "align": "left"
          },
          "hovermode": "closest",
          "mapbox": {
           "style": "light"
          },
          "paper_bgcolor": "white",
          "plot_bgcolor": "#E5ECF6",
          "polar": {
           "angularaxis": {
            "gridcolor": "white",
            "linecolor": "white",
            "ticks": ""
           },
           "bgcolor": "#E5ECF6",
           "radialaxis": {
            "gridcolor": "white",
            "linecolor": "white",
            "ticks": ""
           }
          },
          "scene": {
           "xaxis": {
            "backgroundcolor": "#E5ECF6",
            "gridcolor": "white",
            "gridwidth": 2,
            "linecolor": "white",
            "showbackground": true,
            "ticks": "",
            "zerolinecolor": "white"
           },
           "yaxis": {
            "backgroundcolor": "#E5ECF6",
            "gridcolor": "white",
            "gridwidth": 2,
            "linecolor": "white",
            "showbackground": true,
            "ticks": "",
            "zerolinecolor": "white"
           },
           "zaxis": {
            "backgroundcolor": "#E5ECF6",
            "gridcolor": "white",
            "gridwidth": 2,
            "linecolor": "white",
            "showbackground": true,
            "ticks": "",
            "zerolinecolor": "white"
           }
          },
          "shapedefaults": {
           "line": {
            "color": "#2a3f5f"
           }
          },
          "ternary": {
           "aaxis": {
            "gridcolor": "white",
            "linecolor": "white",
            "ticks": ""
           },
           "baxis": {
            "gridcolor": "white",
            "linecolor": "white",
            "ticks": ""
           },
           "bgcolor": "#E5ECF6",
           "caxis": {
            "gridcolor": "white",
            "linecolor": "white",
            "ticks": ""
           }
          },
          "title": {
           "x": 0.05
          },
          "xaxis": {
           "automargin": true,
           "gridcolor": "white",
           "linecolor": "white",
           "ticks": "",
           "title": {
            "standoff": 15
           },
           "zerolinecolor": "white",
           "zerolinewidth": 2
          },
          "yaxis": {
           "automargin": true,
           "gridcolor": "white",
           "linecolor": "white",
           "ticks": "",
           "title": {
            "standoff": 15
           },
           "zerolinecolor": "white",
           "zerolinewidth": 2
          }
         }
        },
        "title": {
         "text": "Waterfall Chart: Loan Distribution by Income"
        }
       }
      }
     },
     "metadata": {},
     "output_type": "display_data"
    }
   ],
   "source": [
    "# 2. Waterfall Chart (Total Loan by Income)\n",
    "waterfall_data = data.groupby(\"Income\")[\"Total Loan (Estimated)\"] \\\n",
    "    .apply(lambda x: pd.to_numeric(x, errors='coerce').fillna(0).sum())\n",
    "\n",
    "fig = go.Figure(go.Waterfall(\n",
    "    name = \"Income Loan\",\n",
    "    orientation = \"v\",\n",
    "    x = waterfall_data.index,\n",
    "    y = waterfall_data.values\n",
    "))\n",
    "fig.update_layout(title=\"Waterfall Chart: Loan Distribution by Income\")\n",
    "fig.show()"
   ]
  },
  {
   "cell_type": "code",
   "execution_count": 10,
   "id": "cc80c606",
   "metadata": {},
   "outputs": [
    {
     "name": "stderr",
     "output_type": "stream",
     "text": [
      "C:\\Users\\shreyas\\AppData\\Local\\Temp\\ipykernel_1992\\537930712.py:6: FutureWarning:\n",
      "\n",
      "\n",
      "\n",
      "Passing `palette` without assigning `hue` is deprecated and will be removed in v0.14.0. Assign the `x` variable to `hue` and set `legend=False` for the same effect.\n",
      "\n",
      "\n"
     ]
    },
    {
     "data": {
      "image/png": "[encoded data removed]",
      "text/plain": [
       "<Figure size 1000x600 with 1 Axes>"
      ]
     },
     "metadata": {},
     "output_type": "display_data"
    }
   ],
   "source": [
    "# 3. Total Monthly Spend by age\n",
    "age_spend = data.groupby(\"Age\")[\"Monthly Spend\"].sum().reset_index()\n",
    "\n",
    "# Plot\n",
    "plt.figure(figsize=(10,6))\n",
    "sns.barplot(x=\"Age\", y=\"Monthly Spend\", data=age_spend, palette=\"Blues_d\")\n",
    "\n",
    "plt.title(\"Total Monthly Spend by Age\")\n",
    "plt.xlabel(\"Age\")\n",
    "plt.ylabel(\"Total Monthly Spend\")\n",
    "plt.xticks(rotation=45)\n",
    "plt.show()"
   ]
  },
  {
   "cell_type": "code",
   "execution_count": 11,
   "id": "6a273f0c",
   "metadata": {},
   "outputs": [
    {
     "data": {
      "image/png": "[encoded data removed]",
      "text/plain": [
       "<Figure size 800x600 with 2 Axes>"
      ]
     },
     "metadata": {},
     "output_type": "display_data"
    }
   ],
   "source": [
    "# 4. Heatmap (Correlation)\n",
    "plt.figure(figsize=(8,6))\n",
    "sns.heatmap(data.corr(numeric_only=True), annot=True, cmap=\"coolwarm\")\n",
    "plt.title(\"Heatmap of Correlations\")\n",
    "plt.show()"
   ]
  },
  {
   "cell_type": "code",
   "execution_count": 12,
   "id": "d534668f",
   "metadata": {},
   "outputs": [
    {
     "data": {
      "image/png": "[encoded data removed]",
      "text/plain": [
       "<Figure size 750x750 with 12 Axes>"
      ]
     },
     "metadata": {},
     "output_type": "display_data"
    }
   ],
   "source": [
    "# 5. Pairplot (numeric fields)\n",
    "sns.pairplot(data[[\"Age\", \"Monthly Spend\", \"Estimated Monthly Income\"]])\n",
    "plt.show()"
   ]
  },
  {
   "cell_type": "code",
   "execution_count": 13,
   "id": "79dcc57d",
   "metadata": {},
   "outputs": [
    {
     "data": {
      "application/vnd.plotly.v1+json": {
       "config": {
        "plotlyServerURL": "https://plot.ly"
       },
       "data": [
        {
         "domain": {
          "x": [
           0,
           1
          ],
          "y": [
           0,
           1
          ]
         },
         "hole": 0.4,
         "hovertemplate": "label=%{label}<br>value=%{value}<extra></extra>",
         "labels": [
          0,
          1
         ],
         "legendgroup": "",
         "name": "",
         "showlegend": true,
         "type": "pie",
         "values": [
          103,
          82
         ]
        }
       ],
       "layout": {
        "legend": {
         "tracegroupgap": 0
        },
        "template": {
         "data": {
          "bar": [
           {
            "error_x": {
             "color": "#2a3f5f"
            },
            "error_y": {
             "color": "#2a3f5f"
            },
            "marker": {
             "line": {
              "color": "#E5ECF6",
              "width": 0.5
             },
             "pattern": {
              "fillmode": "overlay",
              "size": 10,
              "solidity": 0.2
             }
            },
            "type": "bar"
           }
          ],
          "barpolar": [
           {
            "marker": {
             "line": {
              "color": "#E5ECF6",
              "width": 0.5
             },
             "pattern": {
              "fillmode": "overlay",
              "size": 10,
              "solidity": 0.2
             }
            },
            "type": "barpolar"
           }
          ],
          "carpet": [
           {
            "aaxis": {
             "endlinecolor": "#2a3f5f",
             "gridcolor": "white",
             "linecolor": "white",
             "minorgridcolor": "white",
             "startlinecolor": "#2a3f5f"
            },
            "baxis": {
             "endlinecolor": "#2a3f5f",
             "gridcolor": "white",
             "linecolor": "white",
             "minorgridcolor": "white",
             "startlinecolor": "#2a3f5f"
            },
            "type": "carpet"
           }
          ],
          "choropleth": [
           {
            "colorbar": {
             "outlinewidth": 0,
             "ticks": ""
            },
            "type": "choropleth"
           }
          ],
          "contour": [
           {
            "colorbar": {
             "outlinewidth": 0,
             "ticks": ""
            },
            "colorscale": [
             [
              0,
              "#0d0887"
             ],
             [
              0.1111111111111111,
              "#46039f"
             ],
             [
              0.2222222222222222,
              "#7201a8"
             ],
             [
              0.3333333333333333,
              "#9c179e"
             ],
             [
              0.4444444444444444,
              "#bd3786"
             ],
             [
              0.5555555555555556,
              "#d8576b"
             ],
             [
              0.6666666666666666,
              "#ed7953"
             ],
             [
              0.7777777777777778,
              "#fb9f3a"
             ],
             [
              0.8888888888888888,
              "#fdca26"
             ],
             [
              1,
              "#f0f921"
             ]
            ],
            "type": "contour"
           }
          ],
          "contourcarpet": [
           {
            "colorbar": {
             "outlinewidth": 0,
             "ticks": ""
            },
            "type": "contourcarpet"
           }
          ],
          "heatmap": [
           {
            "colorbar": {
             "outlinewidth": 0,
             "ticks": ""
            },
            "colorscale": [
             [
              0,
              "#0d0887"
             ],
             [
              0.1111111111111111,
              "#46039f"
             ],
             [
              0.2222222222222222,
              "#7201a8"
             ],
             [
              0.3333333333333333,
              "#9c179e"
             ],
             [
              0.4444444444444444,
              "#bd3786"
             ],
             [
              0.5555555555555556,
              "#d8576b"
             ],
             [
              0.6666666666666666,
              "#ed7953"
             ],
             [
              0.7777777777777778,
              "#fb9f3a"
             ],
             [
              0.8888888888888888,
              "#fdca26"
             ],
             [
              1,
              "#f0f921"
             ]
            ],
            "type": "heatmap"
           }
          ],
          "heatmapgl": [
           {
            "colorbar": {
             "outlinewidth": 0,
             "ticks": ""
            },
            "colorscale": [
             [
              0,
              "#0d0887"
             ],
             [
              0.1111111111111111,
              "#46039f"
             ],
             [
              0.2222222222222222,
              "#7201a8"
             ],
             [
              0.3333333333333333,
              "#9c179e"
             ],
             [
              0.4444444444444444,
              "#bd3786"
             ],
             [
              0.5555555555555556,
              "#d8576b"
             ],
             [
              0.6666666666666666,
              "#ed7953"
             ],
             [
              0.7777777777777778,
              "#fb9f3a"
             ],
             [
              0.8888888888888888,
              "#fdca26"
             ],
             [
              1,
              "#f0f921"
             ]
            ],
            "type": "heatmapgl"
           }
          ],
          "histogram": [
           {
            "marker": {
             "pattern": {
              "fillmode": "overlay",
              "size": 10,
              "solidity": 0.2
             }
            },
            "type": "histogram"
           }
          ],
          "histogram2d": [
           {
            "colorbar": {
             "outlinewidth": 0,
             "ticks": ""
            },
            "colorscale": [
             [
              0,
              "#0d0887"
             ],
             [
              0.1111111111111111,
              "#46039f"
             ],
             [
              0.2222222222222222,
              "#7201a8"
             ],
             [
              0.3333333333333333,
              "#9c179e"
             ],
             [
              0.4444444444444444,
              "#bd3786"
             ],
             [
              0.5555555555555556,
              "#d8576b"
             ],
             [
              0.6666666666666666,
              "#ed7953"
             ],
             [
              0.7777777777777778,
              "#fb9f3a"
             ],
             [
              0.8888888888888888,
              "#fdca26"
             ],
             [
              1,
              "#f0f921"
             ]
            ],
            "type": "histogram2d"
           }
          ],
          "histogram2dcontour": [
           {
            "colorbar": {
             "outlinewidth": 0,
             "ticks": ""
            },
            "colorscale": [
             [
              0,
              "#0d0887"
             ],
             [
              0.1111111111111111,
              "#46039f"
             ],
             [
              0.2222222222222222,
              "#7201a8"
             ],
             [
              0.3333333333333333,
              "#9c179e"
             ],
             [
              0.4444444444444444,
              "#bd3786"
             ],
             [
              0.5555555555555556,
              "#d8576b"
             ],
             [
              0.6666666666666666,
              "#ed7953"
             ],
             [
              0.7777777777777778,
              "#fb9f3a"
             ],
             [
              0.8888888888888888,
              "#fdca26"
             ],
             [
              1,
              "#f0f921"
             ]
            ],
            "type": "histogram2dcontour"
           }
          ],
          "mesh3d": [
           {
            "colorbar": {
             "outlinewidth": 0,
             "ticks": ""
            },
            "type": "mesh3d"
           }
          ],
          "parcoords": [
           {
            "line": {
             "colorbar": {
              "outlinewidth": 0,
              "ticks": ""
             }
            },
            "type": "parcoords"
           }
          ],
          "pie": [
           {
            "automargin": true,
            "type": "pie"
           }
          ],
          "scatter": [
           {
            "fillpattern": {
             "fillmode": "overlay",
             "size": 10,
             "solidity": 0.2
            },
            "type": "scatter"
           }
          ],
          "scatter3d": [
           {
            "line": {
             "colorbar": {
              "outlinewidth": 0,
              "ticks": ""
             }
            },
            "marker": {
             "colorbar": {
              "outlinewidth": 0,
              "ticks": ""
             }
            },
            "type": "scatter3d"
           }
          ],
          "scattercarpet": [
           {
            "marker": {
             "colorbar": {
              "outlinewidth": 0,
              "ticks": ""
             }
            },
            "type": "scattercarpet"
           }
          ],
          "scattergeo": [
           {
            "marker": {
             "colorbar": {
              "outlinewidth": 0,
              "ticks": ""
             }
            },
            "type": "scattergeo"
           }
          ],
          "scattergl": [
           {
            "marker": {
             "colorbar": {
              "outlinewidth": 0,
              "ticks": ""
             }
            },
            "type": "scattergl"
           }
          ],
          "scattermapbox": [
           {
            "marker": {
             "colorbar": {
              "outlinewidth": 0,
              "ticks": ""
             }
            },
            "type": "scattermapbox"
           }
          ],
          "scatterpolar": [
           {
            "marker": {
             "colorbar": {
              "outlinewidth": 0,
              "ticks": ""
             }
            },
            "type": "scatterpolar"
           }
          ],
          "scatterpolargl": [
           {
            "marker": {
             "colorbar": {
              "outlinewidth": 0,
              "ticks": ""
             }
            },
            "type": "scatterpolargl"
           }
          ],
          "scatterternary": [
           {
            "marker": {
             "colorbar": {
              "outlinewidth": 0,
              "ticks": ""
             }
            },
            "type": "scatterternary"
           }
          ],
          "surface": [
           {
            "colorbar": {
             "outlinewidth": 0,
             "ticks": ""
            },
            "colorscale": [
             [
              0,
              "#0d0887"
             ],
             [
              0.1111111111111111,
              "#46039f"
             ],
             [
              0.2222222222222222,
              "#7201a8"
             ],
             [
              0.3333333333333333,
              "#9c179e"
             ],
             [
              0.4444444444444444,
              "#bd3786"
             ],
             [
              0.5555555555555556,
              "#d8576b"
             ],
             [
              0.6666666666666666,
              "#ed7953"
             ],
             [
              0.7777777777777778,
              "#fb9f3a"
             ],
             [
              0.8888888888888888,
              "#fdca26"
             ],
             [
              1,
              "#f0f921"
             ]
            ],
            "type": "surface"
           }
          ],
          "table": [
           {
            "cells": {
             "fill": {
              "color": "#EBF0F8"
             },
             "line": {
              "color": "white"
             }
            },
            "header": {
             "fill": {
              "color": "#C8D4E3"
             },
             "line": {
              "color": "white"
             }
            },
            "type": "table"
           }
          ]
         },
         "layout": {
          "annotationdefaults": {
           "arrowcolor": "#2a3f5f",
           "arrowhead": 0,
           "arrowwidth": 1
          },
          "autotypenumbers": "strict",
          "coloraxis": {
           "colorbar": {
            "outlinewidth": 0,
            "ticks": ""
           }
          },
          "colorscale": {
           "diverging": [
            [
             0,
             "#8e0152"
            ],
            [
             0.1,
             "#c51b7d"
            ],
            [
             0.2,
             "#de77ae"
            ],
            [
             0.3,
             "#f1b6da"
            ],
            [
             0.4,
             "#fde0ef"
            ],
            [
             0.5,
             "#f7f7f7"
            ],
            [
             0.6,
             "#e6f5d0"
            ],
            [
             0.7,
             "#b8e186"
            ],
            [
             0.8,
             "#7fbc41"
            ],
            [
             0.9,
             "#4d9221"
            ],
            [
             1,
             "#276419"
            ]
           ],
           "sequential": [
            [
             0,
             "#0d0887"
            ],
            [
             0.1111111111111111,
             "#46039f"
            ],
            [
             0.2222222222222222,
             "#7201a8"
            ],
            [
             0.3333333333333333,
             "#9c179e"
            ],
            [
             0.4444444444444444,
             "#bd3786"
            ],
            [
             0.5555555555555556,
             "#d8576b"
            ],
            [
             0.6666666666666666,
             "#ed7953"
            ],
            [
             0.7777777777777778,
             "#fb9f3a"
            ],
            [
             0.8888888888888888,
             "#fdca26"
            ],
            [
             1,
             "#f0f921"
            ]
           ],
           "sequentialminus": [
            [
             0,
             "#0d0887"
            ],
            [
             0.1111111111111111,
             "#46039f"
            ],
            [
             0.2222222222222222,
             "#7201a8"
            ],
            [
             0.3333333333333333,
             "#9c179e"
            ],
            [
             0.4444444444444444,
             "#bd3786"
            ],
            [
             0.5555555555555556,
             "#d8576b"
            ],
            [
             0.6666666666666666,
             "#ed7953"
            ],
            [
             0.7777777777777778,
             "#fb9f3a"
            ],
            [
             0.8888888888888888,
             "#fdca26"
            ],
            [
             1,
             "#f0f921"
            ]
           ]
          },
          "colorway": [
           "#636efa",
           "#EF553B",
           "#00cc96",
           "#ab63fa",
           "#FFA15A",
           "#19d3f3",
           "#FF6692",
           "#B6E880",
           "#FF97FF",
           "#FECB52"
          ],
          "font": {
           "color": "#2a3f5f"
          },
          "geo": {
           "bgcolor": "white",
           "lakecolor": "white",
           "landcolor": "#E5ECF6",
           "showlakes": true,
           "showland": true,
           "subunitcolor": "white"
          },
          "hoverlabel": {
           "align": "left"
          },
          "hovermode": "closest",
          "mapbox": {
           "style": "light"
          },
          "paper_bgcolor": "white",
          "plot_bgcolor": "#E5ECF6",
          "polar": {
           "angularaxis": {
            "gridcolor": "white",
            "linecolor": "white",
            "ticks": ""
           },
           "bgcolor": "#E5ECF6",
           "radialaxis": {
            "gridcolor": "white",
            "linecolor": "white",
            "ticks": ""
           }
          },
          "scene": {
           "xaxis": {
            "backgroundcolor": "#E5ECF6",
            "gridcolor": "white",
            "gridwidth": 2,
            "linecolor": "white",
            "showbackground": true,
            "ticks": "",
            "zerolinecolor": "white"
           },
           "yaxis": {
            "backgroundcolor": "#E5ECF6",
            "gridcolor": "white",
            "gridwidth": 2,
            "linecolor": "white",
            "showbackground": true,
            "ticks": "",
            "zerolinecolor": "white"
           },
           "zaxis": {
            "backgroundcolor": "#E5ECF6",
            "gridcolor": "white",
            "gridwidth": 2,
            "linecolor": "white",
            "showbackground": true,
            "ticks": "",
            "zerolinecolor": "white"
           }
          },
          "shapedefaults": {
           "line": {
            "color": "#2a3f5f"
           }
          },
          "ternary": {
           "aaxis": {
            "gridcolor": "white",
            "linecolor": "white",
            "ticks": ""
           },
           "baxis": {
            "gridcolor": "white",
            "linecolor": "white",
            "ticks": ""
           },
           "bgcolor": "#E5ECF6",
           "caxis": {
            "gridcolor": "white",
            "linecolor": "white",
            "ticks": ""
           }
          },
          "title": {
           "x": 0.05
          },
          "xaxis": {
           "automargin": true,
           "gridcolor": "white",
           "linecolor": "white",
           "ticks": "",
           "title": {
            "standoff": 15
           },
           "zerolinecolor": "white",
           "zerolinewidth": 2
          },
          "yaxis": {
           "automargin": true,
           "gridcolor": "white",
           "linecolor": "white",
           "ticks": "",
           "title": {
            "standoff": 15
           },
           "zerolinecolor": "white",
           "zerolinewidth": 2
          }
         }
        },
        "title": {
         "text": "Debt Distribution (Donut)"
        }
       }
      }
     },
     "metadata": {},
     "output_type": "display_data"
    }
   ],
   "source": [
    "\n",
    "# 6. Donut Chart (Has Debt)\n",
    "debt_counts = data[\"Has Debt\"].value_counts()\n",
    "fig = px.pie(values=debt_counts.values, names=debt_counts.index, hole=0.4, title=\"Debt Distribution (Donut)\")\n",
    "fig.show()\n"
   ]
  },
  {
   "cell_type": "code",
   "execution_count": 14,
   "id": "f488fc2b",
   "metadata": {},
   "outputs": [
    {
     "data": {
      "image/png": "[encoded data removed]",
      "text/plain": [
       "<Figure size 800x500 with 1 Axes>"
      ]
     },
     "metadata": {},
     "output_type": "display_data"
    }
   ],
   "source": [
    "# 7. Area Plot (Cumulative Monthly Spend by Age)\n",
    "data_sorted = data.sort_values(\"Age\")\n",
    "plt.figure(figsize=(8,5))\n",
    "plt.fill_between(data_sorted[\"Age\"], data_sorted[\"Monthly Spend\"].cumsum(), alpha=0.5)\n",
    "plt.title(\"Cumulative Area Plot of Monthly Spend by Age\")\n",
    "plt.xlabel(\"Age\")\n",
    "plt.ylabel(\"Cumulative Spend\")\n",
    "plt.show()"
   ]
  },
  {
   "cell_type": "code",
   "execution_count": 15,
   "id": "ebed3ebe",
   "metadata": {},
   "outputs": [
    {
     "data": {
      "image/png": "[encoded data removed]",
      "text/plain": [
       "<Figure size 800x500 with 1 Axes>"
      ]
     },
     "metadata": {},
     "output_type": "display_data"
    }
   ],
   "source": [
    "# 8. Box Plot (Monthly Spend by Income)\n",
    "plt.figure(figsize=(8,5))\n",
    "sns.boxplot(x=\"Income\", y=\"Monthly Spend\", data=data)\n",
    "plt.title(\"Box Plot of Monthly Spend by Income Group\")\n",
    "plt.xticks(rotation=45)\n",
    "plt.show()"
   ]
  },
  {
   "cell_type": "code",
   "execution_count": 21,
   "id": "e3abc516",
   "metadata": {},
   "outputs": [
    {
     "name": "stdout",
     "output_type": "stream",
     "text": [
      "                        Income  Savings %  Emergency Fund  Has Debt\n",
      "Wellness Cluster                                                   \n",
      "0                 6.727273e+05   7.954545    19484.848485  0.272727\n",
      "1                 6.576087e+05  10.543478    27434.782609  0.456522\n",
      "2                 1.158333e+06  30.500000    80900.000000  0.516667\n",
      "   Age   Income  Savings %  Has Debt  Emergency Fund  Wellness Cluster  \\\n",
      "0   18   700000       17.5         0           50000                 1   \n",
      "1   18   600000        5.0         1           25000                 0   \n",
      "2   24  1200000       30.0         0          100000                 2   \n",
      "3   18   600000        5.0         1           25000                 1   \n",
      "4   25  1500000       40.0         1          100000                 2   \n",
      "\n",
      "  Wellness Cluster Label  \n",
      "0                   Good  \n",
      "1                Average  \n",
      "2                   Poor  \n",
      "3                   Good  \n",
      "4                   Poor  \n"
     ]
    }
   ],
   "source": [
    "# Select features\n",
    "X = data[['Age', 'Income', 'Monthly Spend', 'Savings %', 'Emergency Fund',\n",
    "          'Has Debt', 'Invests', 'Income Type', 'Investment Type',\n",
    "          'Insurance Coverage', 'Budgeting Habit', 'Total Loan (Estimated)', 'Estimated Monthly Income']]\n",
    "\n",
    "# Preprocessing setup\n",
    "numeric_features = ['Age', 'Income', 'Monthly Spend', 'Savings %', 'Emergency Fund',\n",
    "                    'Has Debt', 'Invests', 'Total Loan (Estimated)', 'Estimated Monthly Income']\n",
    "categorical_features = ['Income Type', 'Investment Type', 'Insurance Coverage', 'Budgeting Habit']\n",
    "\n",
    "preprocessor = ColumnTransformer([\n",
    "    ('num', StandardScaler(), numeric_features),\n",
    "    ('cat', OneHotEncoder(handle_unknown='ignore'), categorical_features)\n",
    "])\n",
    "\n",
    "# Apply preprocessing to X\n",
    "X_preprocessed = preprocessor.fit_transform(X)\n",
    "\n",
    "# Apply KMeans clustering\n",
    "kmeans = KMeans(n_clusters=3, random_state=42)\n",
    "data['Wellness Cluster'] = kmeans.fit_predict(X_preprocessed)\n",
    "\n",
    "# Calculate cluster-wise means\n",
    "cluster_summary = data.groupby('Wellness Cluster')[['Income', 'Savings %', 'Emergency Fund', 'Has Debt']].mean()\n",
    "print(cluster_summary)\n",
    "\n",
    "# Sort clusters by 'Income' and 'Savings %' (higher is better)\n",
    "cluster_summary['score'] = (\n",
    "    cluster_summary['Income'] + \n",
    "    cluster_summary['Savings %'] + \n",
    "    cluster_summary['Emergency Fund'] - \n",
    "    cluster_summary['Has Debt'] * 10000\n",
    ")\n",
    "sorted_clusters = cluster_summary.sort_values(by='score', ascending=False).index.tolist()\n",
    "\n",
    "# Map clusters to labels\n",
    "cluster_mapping = {\n",
    "    sorted_clusters[2]: 'Good',\n",
    "    sorted_clusters[1]: 'Average',\n",
    "    sorted_clusters[0]: 'Poor'\n",
    "}\n",
    "\n",
    "data['Wellness Cluster Label'] = data['Wellness Cluster'].map(cluster_mapping)\n",
    "\n",
    "# Check result\n",
    "print(data[['Age', 'Income', 'Savings %', 'Has Debt', 'Emergency Fund', 'Wellness Cluster', 'Wellness Cluster Label']].head())\n",
    "\n",
    "# Save result\n",
    "data.to_csv('financial_data_with_clusters.csv', index=False)\n"
   ]
  },
  {
   "cell_type": "markdown",
   "id": "2d287b66",
   "metadata": {},
   "source": [
    "Train - Test Split Logistic Regression after the data is being clustered"
   ]
  },
  {
   "cell_type": "code",
   "execution_count": 22,
   "id": "b0dc186a",
   "metadata": {},
   "outputs": [
    {
     "name": "stdout",
     "output_type": "stream",
     "text": [
      "Accuracy: 0.972972972972973\n",
      "\n",
      "Classification Report:\n",
      "               precision    recall  f1-score   support\n",
      "\n",
      "           0       0.90      1.00      0.95         9\n",
      "           1       1.00      1.00      1.00        17\n",
      "           2       1.00      0.91      0.95        11\n",
      "\n",
      "    accuracy                           0.97        37\n",
      "   macro avg       0.97      0.97      0.97        37\n",
      "weighted avg       0.98      0.97      0.97        37\n",
      "\n"
     ]
    }
   ],
   "source": [
    "\n",
    "# Defining target and features from the data\n",
    "target = 'Wellness Cluster'\n",
    "features = ['Age', 'Income', 'Monthly Spend', 'Savings %', 'Emergency Fund',\n",
    "            'Has Debt', 'Invests', 'Income Type', 'Investment Type',\n",
    "            'Insurance Coverage', 'Budgeting Habit', 'Total Loan (Estimated)']\n",
    "\n",
    "X = data[features]\n",
    "y = data[target]\n",
    "\n",
    "numeric_features = ['Age', 'Income', 'Monthly Spend', 'Savings %', \n",
    "                    'Emergency Fund', 'Has Debt', 'Invests', 'Total Loan (Estimated)']\n",
    "categorical_features = ['Income Type', 'Investment Type', 'Insurance Coverage', 'Budgeting Habit']\n",
    "\n",
    "preprocessor = ColumnTransformer([\n",
    "    ('num', StandardScaler(), numeric_features),\n",
    "    ('cat', OneHotEncoder(handle_unknown='ignore'), categorical_features)\n",
    "])\n",
    "\n",
    "# Pipeline with preprocessor + Logistic Regression Classifier\n",
    "pipeline = Pipeline([\n",
    "    ('preprocessor', preprocessor),\n",
    "    ('classifier', LogisticRegression(max_iter=1000, random_state=42))\n",
    "])\n",
    "\n",
    "# Train-test split\n",
    "X_train, X_test, y_train, y_test = train_test_split(X, y, test_size=0.2, random_state=42)\n",
    "\n",
    "# Train the model\n",
    "pipeline.fit(X_train, y_train)\n",
    "\n",
    "# Predict\n",
    "y_pred = pipeline.predict(X_test)\n",
    "\n",
    "# Evaluation\n",
    "print(\"Accuracy:\", accuracy_score(y_test, y_pred))\n",
    "print(\"\\nClassification Report:\\n\", classification_report(y_test, y_pred))\n"
   ]
  },
  {
   "cell_type": "markdown",
   "id": "f82500f2",
   "metadata": {},
   "source": [
    "Train - Test Split Random Forest Classifier"
   ]
  },
  {
   "cell_type": "code",
   "execution_count": 23,
   "id": "42f0fd06",
   "metadata": {},
   "outputs": [
    {
     "name": "stdout",
     "output_type": "stream",
     "text": [
      "Accuracy: 0.97\n",
      "Classification Report:\n",
      "              precision    recall  f1-score   support\n",
      "\n",
      "           0       0.90      1.00      0.95         9\n",
      "           1       1.00      1.00      1.00        17\n",
      "           2       1.00      0.91      0.95        11\n",
      "\n",
      "    accuracy                           0.97        37\n",
      "   macro avg       0.97      0.97      0.97        37\n",
      "weighted avg       0.98      0.97      0.97        37\n",
      "\n",
      "Confusion Matrix:\n",
      "[[ 9  0  0]\n",
      " [ 0 17  0]\n",
      " [ 1  0 10]]\n"
     ]
    }
   ],
   "source": [
    "\n",
    "# Define target and features\n",
    "target = 'Wellness Cluster'\n",
    "features = ['Age', 'Income', 'Monthly Spend', 'Savings %', 'Emergency Fund',\n",
    "            'Has Debt', 'Invests', 'Income Type', 'Investment Type',\n",
    "            'Insurance Coverage', 'Budgeting Habit', 'Total Loan (Estimated)']\n",
    "\n",
    "X = data[features]\n",
    "y = data[target]\n",
    "\n",
    "# Preprocessing (one-hot encode categorical features + scale numeric)\n",
    "numeric_features = ['Age', 'Income', 'Monthly Spend', 'Savings %', 'Emergency Fund',\n",
    "                    'Has Debt', 'Invests', 'Total Loan (Estimated)']\n",
    "categorical_features = ['Income Type', 'Investment Type', 'Insurance Coverage', 'Budgeting Habit']\n",
    "\n",
    "preprocessor = ColumnTransformer([\n",
    "    ('num', StandardScaler(), numeric_features),\n",
    "    ('cat', OneHotEncoder(handle_unknown='ignore'), categorical_features)\n",
    "])\n",
    "\n",
    "# Pipeline with preprocessor + Random Forest Classifier\n",
    "pipeline = Pipeline([\n",
    "    ('preprocessor', preprocessor),\n",
    "    ('classifier', RandomForestClassifier(n_estimators=100, random_state=42))\n",
    "])\n",
    "\n",
    "# Train-test split\n",
    "X_train, X_test, y_train, y_test = train_test_split(X, y, test_size=0.2, random_state=42)\n",
    "\n",
    "# Train the model\n",
    "pipeline.fit(X_train, y_train)\n",
    "\n",
    "# Predict\n",
    "y_pred = pipeline.predict(X_test)\n",
    "\n",
    "# Evaluation\n",
    "accuracy = accuracy_score(y_test, y_pred)\n",
    "report = classification_report(y_test, y_pred)\n",
    "conf_matrix = confusion_matrix(y_test, y_pred)\n",
    "\n",
    "print(f\"Accuracy: {accuracy:.2f}\")\n",
    "print(\"Classification Report:\")\n",
    "print(report)\n",
    "print(\"Confusion Matrix:\")\n",
    "print(conf_matrix)\n"
   ]
  },
  {
   "cell_type": "markdown",
   "id": "bb07976e",
   "metadata": {},
   "source": [
    "Goal:\n",
    "\n",
    "Predict the financial wellness cluster (Good/Average/Poor) using available features.\n",
    "\n",
    "✅ Random Forest Classifier:\n",
    "\n",
    "Trained the model to classify people into wellness clusters.\n",
    "\n",
    "Achieved good accuracy (exact value depends on your data).\n",
    "\n",
    "Classification report provided precision, recall, and F1-score per class.\n",
    "\n",
    "✅ Logistic Regression Classifier:\n",
    "\n",
    "Also used for predicting wellness cluster.\n",
    "\n",
    "Provided baseline performance with simple, interpretable coefficients.\n",
    "\n",
    "Accuracy and classification report helped validate the model."
   ]
  },
  {
   "cell_type": "markdown",
   "id": "00003778",
   "metadata": {},
   "source": [
    "Overall Impact:\n",
    "\n",
    "This project demonstrates how to analyze financial behavior, group individuals by financial wellness, and build predictive models to classify new individuals into appropriate wellness categories.\n",
    "It provides a data-driven foundation for actionable insights (e.g., identifying who needs financial help)."
   ]
  },
  {
   "cell_type": "code",
   "execution_count": 24,
   "id": "841789d9",
   "metadata": {},
   "outputs": [
    {
     "name": "stdout",
     "output_type": "stream",
     "text": [
      "The predicted cluster for the new individual is: 2\n"
     ]
    }
   ],
   "source": [
    "# The new data must include all columns used during training\n",
    "new_data = {\n",
    "    'Age': [20],\n",
    "    'Income': [1000000],\n",
    "    'Monthly Spend': [60000],\n",
    "    'Savings %': [10.0],\n",
    "    'Emergency Fund': [30000],\n",
    "    'Has Debt': [0],\n",
    "    'Invests': [1],\n",
    "    'Income Type': ['Fixed'],\n",
    "    'Investment Type': ['No'],\n",
    "    'Insurance Coverage': [50000],\n",
    "    'Total Loan (Estimated)': [400000],\n",
    "    'Budgeting Habit': ['No']  # Add the missing column\n",
    "}\n",
    "new_df = pd.DataFrame(new_data)\n",
    "\n",
    "# Now, this will run without the ValueError\n",
    "new_pred = pipeline.predict(new_df)\n",
    "\n",
    "print(f\"The predicted cluster for the new individual is: {new_pred[0]}\")"
   ]
  }
 ],
 "metadata": {
  "kernelspec": {
   "display_name": "base",
   "language": "python",
   "name": "python3"
  },
  "language_info": {
   "codemirror_mode": {
    "name": "ipython",
    "version": 3
   },
   "file_extension": ".py",
   "mimetype": "text/x-python",
   "name": "python",
   "nbconvert_exporter": "python",
   "pygments_lexer": "ipython3",
   "version": "3.12.7"
  }
 },
 "nbformat": 4,
 "nbformat_minor": 5
}
